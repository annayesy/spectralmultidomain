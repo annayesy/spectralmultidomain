{
 "cells": [
  {
   "cell_type": "code",
   "execution_count": 1,
   "id": "67f4cd2e",
   "metadata": {},
   "outputs": [],
   "source": [
    "import numpy as np\n",
    "\n",
    "from hps.pdo               import PDO2d,PDO3d,const,get_known_greens\n",
    "from hps.geom              import BoxGeometry, ParametrizedGeometry2D,ParametrizedGeometry3D\n",
    "\n",
    "from hps.hps_multidomain   import HPSMultidomain\n",
    "from hps.fd_discretization import FDDiscretization\n",
    "from matplotlib            import pyplot as plt"
   ]
  },
  {
   "cell_type": "markdown",
   "id": "d6a5cb0e",
   "metadata": {},
   "source": [
    "## Solving the Helmholtz Equation on a Curved Domain\n",
    "\n",
    "We aim to solve the **Helmholtz equation** on a *curved domain* denoted by $\\Psi$. \n",
    "$$\n",
    "-\\Delta u(x) - \\kappa^2 u(x) = f(x), \\quad x \\in \\Psi,\n",
    "$$\n",
    "with appropriate boundary conditions.\n",
    "\n",
    "However, instead of working directly on $\\Psi$, we are provided with numerical tools that solve **variable-coefficient elliptic partial differential equations (PDEs)** on a simpler, **reference domain** $\\Omega$. In our case, $\\Omega$ is the unit square.\n",
    "\n",
    "To bridge the gap between these two domains, we define **smooth bijective maps** that allow us to convert between the reference and physical (curved) domains. These mappings enable us to transform the problem from the complex geometry of $\\Psi$ to the more manageable geometry of $\\Omega$.\n",
    "\n",
    "### Domain Definitions\n",
    "\n",
    "- **Reference Domain**: $\\Omega$ (unit square)\n",
    "- **Physical/Curved Domain**: $\\Psi$\n",
    "\n",
    "### Mappings Between Domains\n",
    "\n",
    "Let us define two smooth mappings:\n",
    "\n",
    "- $y: \\Psi \\rightarrow \\Omega$  \n",
    "  This mapping takes a point from physical domain $\\Psi$ and maps it to the reference domain $\\Omega$.\n",
    "\n",
    "- $z: \\Omega \\rightarrow \\Psi$  \n",
    "  This mapping takes a point from reference domain $\\Omega$ and maps it to the physical domain $\\Psi$.\n",
    "\n",
    "\n",
    "These maps are assumed to be smooth and invertible, satisfying:\n",
    "$$\n",
    "y(z(x)) = x, \\quad \\forall x \\in \\Psi.\n",
    "$$\n",
    "\n",
    "### Variable Coefficient PDE\n",
    "\n",
    "To write this explicitly, suppose a point in the curved domain $\\Psi$ with coordinates $(x_1, x_2)$ is mapped to a point in the reference domain $\\Omega$ with coordinates $(y_1, y_2)$. This inverse mapping is defined by two smooth functions:\n",
    "\n",
    "$$\n",
    "y_1 = y_1(x_1, x_2), \\quad y_2 = y_2(x_1, x_2)\n",
    "$$\n",
    "\n",
    "That is, each coordinate in the reference domain depends on the position in the curved domain.\n",
    "Then the transformed equation on the reference domain becomes:\n",
    "\n",
    "$$\n",
    "\\left( \\frac{\\partial}{\\partial x_1} + \\frac{\\partial}{\\partial x_2} \\right) {u}(y_1(x_1, x_2), y_2(x_1, x_2)) = f(y_1(x_1, x_2), y_2(x_1, x_2)), \\quad (y_1, y_2) \\in \\Omega,\n",
    "$$\n",
    "with appropriate boundary conditions.\n",
    "\n",
    "Note: In practice, derivatives with respect to $x_1$ and $x_2$ must be expressed in terms of derivatives with respect to $y_1$ and $y_2$ using the chain rule and the Jacobian matrix of the transformation."
   ]
  },
  {
   "cell_type": "code",
   "execution_count": 2,
   "id": "424a5fc9",
   "metadata": {},
   "outputs": [],
   "source": [
    "#############################################################\n",
    "### Function z maps from reference domain (square) to curved domain\n",
    "mag    = 0.25\n",
    "psi    = lambda z: 1 - mag * np.sin(6*z)\n",
    "\n",
    "z1   = lambda xx: xx[:,0]\n",
    "z2   = lambda xx: np.divide(xx[:,1],psi(xx[:,0]))\n",
    "\n",
    "### Function y is the inverse map\n",
    "y1   = lambda xx: xx[:,0]\n",
    "y2   = lambda xx: np.multiply(xx[:,1],psi(xx[:,0]))\n",
    "\n",
    "### We compute partial derivatives with respect to y.\n",
    "### Some of them are zero and omitted.\n",
    "\n",
    "dpsi   = lambda z:   - mag*6 * np.cos(6*z)\n",
    "ddpsi  = lambda z:     mag*36  * np.sin(6*z)\n",
    "\n",
    "y1_d1  = lambda xx: np.ones(xx[:,0].shape)\n",
    "y2_d1  = lambda xx: np.multiply(xx[:,1], dpsi(xx[:,0]))\n",
    "y2_d2  = lambda xx: psi(xx[:,0])\n",
    "\n",
    "y2_d1d1= lambda xx: np.multiply(xx[:,1], ddpsi(xx[:,0]))"
   ]
  },
  {
   "cell_type": "markdown",
   "id": "f844f035",
   "metadata": {},
   "source": [
    "## Interface for solving with HPS\n",
    "\n",
    "For the Helmholtz equation, I've tried to make the interface easy to use, and swept the details into convenient classes. Given the definitions of $y$ and $z$ above as well as relevant partial derivatives with respect to $y$, solving the PDE on the physical geometry can be done as such."
   ]
  },
  {
   "cell_type": "code",
   "execution_count": 3,
   "id": "39c9fb56",
   "metadata": {},
   "outputs": [
    {
     "name": "stdout",
     "output_type": "stream",
     "text": [
      "relerror in 2D curved domain 3.72e-10\n"
     ]
    }
   ],
   "source": [
    "# We define the reference geometry.\n",
    "box_geom   = np.array([[0,0],[1.0,1.0]])\n",
    "\n",
    "# The parametrized geometry is defined by reference,\n",
    "# the maps y and z as well as partial derivatives wrt y.\n",
    "\n",
    "param_geom = ParametrizedGeometry2D(box_geom, z1, z2, y1, y2,\\\n",
    "    y1_d1=y1_d1, y2_d1=y2_d1, y2_d2=y2_d2,y2_d1d1=y2_d1d1)\n",
    "\n",
    "a = 1/8; p = 10 # discretization parameters\n",
    "kh = 0          # wavenumber\n",
    "\n",
    "### The bfield defines the coefficient on the PHYSICAL domain.\n",
    "### You can add a variable coefficient (obstacle) if you wish in the PHYSICAL domain.\n",
    "def bfield_constant(xx,kh):\n",
    "    return -(kh**2) * np.ones(xx.shape[0])\n",
    "\n",
    "### Here, it is transformed to a variable-coefficient PDE on the reference.\n",
    "pdo_mod = param_geom.transform_helmholtz_pdo(bfield_constant, kh)\n",
    "\n",
    "### To interface with the solver, plug the MODIFIED pde and the parameterized\n",
    "### geometry class into the usual HPSMultidomain interface.\n",
    "solver  = HPSMultidomain(pdo_mod,param_geom,a,p)\n",
    "relerr  = solver.verify_discretization(kh)\n",
    "print(\"relerror in 2D curved domain %5.2e\" % relerr)"
   ]
  },
  {
   "cell_type": "markdown",
   "id": "b5cbe75e",
   "metadata": {},
   "source": [
    "## Collocation points on reference and physical domains"
   ]
  },
  {
   "cell_type": "code",
   "execution_count": 4,
   "id": "8f9886dd",
   "metadata": {},
   "outputs": [
    {
     "data": {
      "image/png": "[encoded data removed]",
      "text/plain": [
       "<Figure size 720x360 with 2 Axes>"
      ]
     },
     "metadata": {
      "needs_background": "light"
     },
     "output_type": "display_data"
    }
   ],
   "source": [
    "points_reference = solver.XX\n",
    "points_physical  = np.vstack((y1(solver.XX),y2(solver.XX))).T\n",
    "\n",
    "# Create side-by-side scatter plots with equal aspect ratios\n",
    "fig, axes = plt.subplots(1, 2, figsize=(10, 5))\n",
    "\n",
    "# Plot: Reference Domain\n",
    "axes[0].scatter(points_reference[:, 0], points_reference[:, 1])\n",
    "axes[0].set_title(\"Reference Domain\")\n",
    "axes[0].set_aspect('equal')\n",
    "\n",
    "# Plot: Physical Domain\n",
    "axes[1].scatter(points_physical[:, 0], points_physical[:, 1])\n",
    "axes[1].set_title(\"Physical Domain\")\n",
    "axes[1].set_aspect('equal')\n",
    "\n",
    "# Layout\n",
    "plt.tight_layout()\n",
    "plt.show()"
   ]
  }
 ],
 "metadata": {
  "kernelspec": {
   "display_name": "Python 3 (ipykernel)",
   "language": "python",
   "name": "python3"
  },
  "language_info": {
   "codemirror_mode": {
    "name": "ipython",
    "version": 3
   },
   "file_extension": ".py",
   "mimetype": "text/x-python",
   "name": "python",
   "nbconvert_exporter": "python",
   "pygments_lexer": "ipython3",
   "version": "3.9.12"
  }
 },
 "nbformat": 4,
 "nbformat_minor": 5
}
